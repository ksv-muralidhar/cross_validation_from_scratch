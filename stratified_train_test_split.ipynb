{
 "cells": [
  {
   "cell_type": "code",
   "execution_count": 1,
   "id": "43386de5-9ac7-4d03-9134-b4e28d0cfc45",
   "metadata": {
    "tags": []
   },
   "outputs": [],
   "source": [
    "from sklearn.datasets import load_breast_cancer\n",
    "import numpy as np\n",
    "from collections import Counter"
   ]
  },
  {
   "cell_type": "code",
   "execution_count": 2,
   "id": "70907226-28c6-47c0-af5b-24c698c24a6f",
   "metadata": {
    "tags": []
   },
   "outputs": [],
   "source": [
    "x = load_breast_cancer()['data']\n",
    "y = load_breast_cancer()['target']"
   ]
  },
  {
   "cell_type": "code",
   "execution_count": 3,
   "id": "669175b3-eb4d-42ac-a723-0431c5567459",
   "metadata": {
    "tags": []
   },
   "outputs": [
    {
     "data": {
      "text/plain": [
       "Counter({0: 212, 1: 357})"
      ]
     },
     "execution_count": 3,
     "metadata": {},
     "output_type": "execute_result"
    }
   ],
   "source": [
    "counts = Counter(y) # label counts of y\n",
    "counts"
   ]
  },
  {
   "cell_type": "code",
   "execution_count": 4,
   "id": "636b71f2-0e55-46dc-83e5-65d727b630fa",
   "metadata": {
    "tags": []
   },
   "outputs": [
    {
     "data": {
      "text/plain": [
       "569"
      ]
     },
     "execution_count": 4,
     "metadata": {},
     "output_type": "execute_result"
    }
   ],
   "source": [
    "y_count = len(y) # count of all labels in y\n",
    "y_count"
   ]
  },
  {
   "cell_type": "code",
   "execution_count": 5,
   "id": "3c203d12-5b86-478a-ae13-90e46ca6dd5b",
   "metadata": {
    "tags": []
   },
   "outputs": [
    {
     "data": {
      "text/plain": [
       "{0: 0.37258347978910367, 1: 0.6274165202108963}"
      ]
     },
     "execution_count": 5,
     "metadata": {},
     "output_type": "execute_result"
    }
   ],
   "source": [
    "counts_percent = {key: value / y_count for key, value in counts.items()} # proportions of labels in y\n",
    "counts_percent"
   ]
  },
  {
   "cell_type": "code",
   "execution_count": 6,
   "id": "cf2a6d9d-6a4b-474d-a0d7-950b15fd80d0",
   "metadata": {
    "tags": []
   },
   "outputs": [],
   "source": [
    "test_prop = 0.3"
   ]
  },
  {
   "cell_type": "code",
   "execution_count": 7,
   "id": "2fe6c542-5c10-4f2c-88f3-fe8115e7605a",
   "metadata": {
    "tags": []
   },
   "outputs": [
    {
     "data": {
      "text/plain": [
       "{0: 64, 1: 108}"
      ]
     },
     "execution_count": 7,
     "metadata": {},
     "output_type": "execute_result"
    }
   ],
   "source": [
    "y_test_count = {label: int(np.ceil(test_prop * prop * y_count)) for label, prop in counts_percent.items()} # count of samples per label in test set\n",
    "y_test_count"
   ]
  },
  {
   "cell_type": "code",
   "execution_count": 8,
   "id": "69eba034-5425-4b12-bd31-e70ee403ffeb",
   "metadata": {
    "tags": []
   },
   "outputs": [
    {
     "data": {
      "text/plain": [
       "170.7"
      ]
     },
     "execution_count": 8,
     "metadata": {},
     "output_type": "execute_result"
    }
   ],
   "source": [
    "len_y_test = y_count * test_prop\n",
    "len_y_test"
   ]
  },
  {
   "cell_type": "code",
   "execution_count": 9,
   "id": "97549b34-c7ec-4d24-884b-3614000ce8c3",
   "metadata": {
    "tags": []
   },
   "outputs": [],
   "source": [
    "if sum([*y_test_count.values()]) > len_y_test:   \n",
    "    first_key = [*y_test_count.keys()][0] # getting first label\n",
    "    y_test_count[first_key] -= (sum([*y_test_count.values()]) - len_y_test)  # adding the leftover samples to first label "
   ]
  },
  {
   "cell_type": "code",
   "execution_count": 10,
   "id": "d9c8844a-e00e-4dc9-8254-7c0131610454",
   "metadata": {
    "tags": []
   },
   "outputs": [
    {
     "data": {
      "text/plain": [
       "{0: 62.69999999999999, 1: 108}"
      ]
     },
     "execution_count": 10,
     "metadata": {},
     "output_type": "execute_result"
    }
   ],
   "source": [
    "y_test_count"
   ]
  },
  {
   "cell_type": "code",
   "execution_count": 11,
   "id": "7d7b0600-5c86-487a-9a46-39b1cde0c8bf",
   "metadata": {
    "tags": []
   },
   "outputs": [],
   "source": [
    "train_samples = np.array([], dtype=\"int\") # creating empty array to hold train sample idx\n",
    "test_samples = np.array([], dtype=\"int\") # creating empty array to hold test sample idx\n",
    "for i in [*y_test_count.keys()]: # iterating through labels\n",
    "    np.random.seed(42)\n",
    "    samples = np.where(y==i)[0] # selecting idxs from y which are equal to a particular label\n",
    "    # appending randomly chosen test samples of a particular label to test_samples array\n",
    "    test_samples = np.append(test_samples, np.random.choice(a=samples, size=int(y_test_count[i]), replace=False))\n",
    "    # appending samples that are not present in test_samples to train_samples\n",
    "    train_samples = np.append(train_samples, np.setdiff1d(samples, test_samples)) # return idx in samples that are not test_samples\n",
    "    x_train, x_test, y_train, y_test = x[train_samples], x[test_samples], y[train_samples], y[test_samples]"
   ]
  },
  {
   "cell_type": "code",
   "execution_count": 12,
   "id": "1fd8ff35-0e2e-4164-b7b5-d68b966552e2",
   "metadata": {
    "tags": []
   },
   "outputs": [
    {
     "data": {
      "text/plain": [
       "array([  0,   1,   2,   3,   4,   6,   7,   8,  10,  11,  12,  13,  14,\n",
       "        17,  23,  24,  25,  26,  29,  30,  31,  34,  35,  36,  38,  39,\n",
       "        40,  41,  43,  44,  45,  47,  53,  54,  57,  62,  64,  65,  70,\n",
       "        72,  73,  75,  77,  83,  85,  86,  91,  94,  95,  99, 100, 119,\n",
       "       121, 122, 127, 131, 132, 134, 138, 141, 156, 162, 167, 168, 171,\n",
       "       172, 177, 180, 182, 193, 194, 198, 199, 202, 203, 205, 212, 213,\n",
       "       214, 215, 218, 223, 229, 233, 236, 237, 239, 244, 250, 252, 255,\n",
       "       256, 257, 258, 259, 260, 261, 263, 265, 272, 277, 280, 283, 297,\n",
       "       300, 321, 328, 329, 330, 335, 337, 343, 351, 352, 353, 365, 366,\n",
       "       369, 370, 372, 379, 385, 392, 393, 408, 414, 417, 432, 433, 435,\n",
       "       444, 460, 461, 468, 489, 492, 498, 499, 501, 509, 512, 514, 516,\n",
       "       521, 533, 535, 536, 562, 564, 567,  19,  20,  21,  46,  49,  51,\n",
       "        55,  58,  59,  60,  61,  68,  69,  71,  74,  79,  84,  88,  89,\n",
       "        90,  93,  96,  98, 101, 102, 103, 104, 107, 109, 111, 112, 115,\n",
       "       116, 120, 123, 124, 125, 128, 130, 139, 140, 143, 144, 147, 148,\n",
       "       150, 151, 152, 153, 154, 158, 166, 169, 170, 174, 176, 178, 179,\n",
       "       183, 185, 188, 189, 195, 200, 204, 206, 208, 209, 216, 217, 220,\n",
       "       221, 222, 224, 228, 231, 235, 240, 241, 243, 245, 246, 247, 249,\n",
       "       266, 267, 268, 269, 270, 273, 275, 276, 278, 281, 286, 287, 288,\n",
       "       289, 291, 294, 295, 296, 299, 301, 304, 307, 308, 309, 310, 311,\n",
       "       312, 313, 314, 315, 316, 318, 319, 320, 322, 324, 325, 326, 327,\n",
       "       331, 332, 333, 334, 336, 341, 344, 345, 346, 347, 348, 349, 350,\n",
       "       354, 355, 357, 359, 360, 361, 362, 363, 367, 371, 374, 375, 378,\n",
       "       380, 381, 382, 383, 384, 386, 387, 394, 398, 399, 402, 404, 405,\n",
       "       406, 407, 410, 411, 412, 413, 415, 418, 419, 420, 421, 423, 424,\n",
       "       426, 427, 428, 429, 431, 438, 439, 440, 442, 443, 445, 447, 448,\n",
       "       452, 454, 455, 456, 457, 458, 459, 463, 464, 466, 467, 469, 473,\n",
       "       474, 475, 478, 480, 483, 485, 486, 488, 491, 494, 495, 497, 500,\n",
       "       502, 504, 505, 506, 507, 511, 513, 515, 519, 520, 522, 523, 524,\n",
       "       526, 527, 528, 529, 530, 531, 532, 534, 538, 542, 543, 545, 546,\n",
       "       547, 548, 549, 553, 554, 555, 556, 560, 568], dtype=int64)"
      ]
     },
     "execution_count": 12,
     "metadata": {},
     "output_type": "execute_result"
    }
   ],
   "source": [
    "train_samples"
   ]
  },
  {
   "cell_type": "code",
   "execution_count": 13,
   "id": "0c39fc8d-e239-47dd-8611-db35e348368d",
   "metadata": {
    "tags": []
   },
   "outputs": [
    {
     "data": {
      "text/plain": [
       "array([ 33, 400, 274, 129,  87, 565,  56, 446,   9, 196, 264, 479, 339,\n",
       "       146,  15, 517, 373,  18, 566, 164, 135,  78, 317, 563, 323, 282,\n",
       "        28, 201,  16, 430, 262, 253, 210, 117, 126, 302, 441, 186, 487,\n",
       "       181, 219, 368, 503, 254, 207, 118, 161, 190, 197,  42,  27, 449,\n",
       "       230,  32,  22, 451, 184, 108, 105,   5, 389,  82, 395, 110, 481,\n",
       "       493, 136, 541,  63, 137, 422, 248, 173, 544, 376, 462, 242, 251,\n",
       "       484, 482, 284, 559, 285, 391, 416,  97, 338, 388, 292, 525,  81,\n",
       "       157, 450,  52, 550, 293, 232, 106,  76, 561, 192, 187, 537,  92,\n",
       "       496, 225, 305, 403, 133,  48, 113, 397, 465, 409, 476, 165, 552,\n",
       "       342,  37, 238, 160, 425, 145, 114, 377, 163, 155, 175, 551, 358,\n",
       "       434, 191, 470, 356, 471, 539, 477, 159, 436, 557,  66, 149, 271,\n",
       "        50, 490, 298, 518, 510, 390, 306, 226, 453, 142, 234, 437, 227,\n",
       "       472, 401,  67, 290,  80, 211, 540, 340, 508, 279, 303, 396, 558,\n",
       "       364], dtype=int64)"
      ]
     },
     "execution_count": 13,
     "metadata": {},
     "output_type": "execute_result"
    }
   ],
   "source": [
    "test_samples"
   ]
  },
  {
   "cell_type": "code",
   "execution_count": 14,
   "id": "99143c23-947a-43d9-b6a3-d46b03a4d566",
   "metadata": {
    "tags": []
   },
   "outputs": [],
   "source": [
    "# ensuring no duplicate train samples\n",
    "assert len(set(train_samples)) == len(train_samples)"
   ]
  },
  {
   "cell_type": "code",
   "execution_count": 15,
   "id": "343d1bfe-2189-4898-b8bd-c0923386ef50",
   "metadata": {
    "tags": []
   },
   "outputs": [],
   "source": [
    "# ensuring no duplicate test samples\n",
    "assert len(set(test_samples)) == len(test_samples)"
   ]
  },
  {
   "cell_type": "code",
   "execution_count": 16,
   "id": "650285a9-480c-406d-9b65-646333f99fbf",
   "metadata": {
    "tags": []
   },
   "outputs": [],
   "source": [
    "# ensuring no intersection between train and test samples\n",
    "assert len(set(test_samples).intersection(set(train_samples))) == 0"
   ]
  },
  {
   "cell_type": "code",
   "execution_count": 17,
   "id": "e649ff41-a3ce-4516-b1e4-80d7a701d2d9",
   "metadata": {
    "tags": []
   },
   "outputs": [
    {
     "data": {
      "text/plain": [
       "170"
      ]
     },
     "execution_count": 17,
     "metadata": {},
     "output_type": "execute_result"
    }
   ],
   "source": [
    "len(test_samples)"
   ]
  },
  {
   "cell_type": "code",
   "execution_count": 18,
   "id": "2ab7cc3c-1e4b-432a-8311-9aa34e114db2",
   "metadata": {
    "tags": []
   },
   "outputs": [
    {
     "data": {
      "text/plain": [
       "399"
      ]
     },
     "execution_count": 18,
     "metadata": {},
     "output_type": "execute_result"
    }
   ],
   "source": [
    "len(train_samples)"
   ]
  },
  {
   "cell_type": "code",
   "execution_count": 19,
   "id": "482ab666-3e99-4814-9f4d-787e79b4fc67",
   "metadata": {
    "tags": []
   },
   "outputs": [
    {
     "data": {
      "text/plain": [
       "569"
      ]
     },
     "execution_count": 19,
     "metadata": {},
     "output_type": "execute_result"
    }
   ],
   "source": [
    "len(y)"
   ]
  },
  {
   "cell_type": "code",
   "execution_count": 20,
   "id": "5e199ce1-a185-4dfc-b14d-7034438048c9",
   "metadata": {},
   "outputs": [],
   "source": [
    "assert len(y) == (len(test_samples) + len(train_samples))"
   ]
  },
  {
   "cell_type": "code",
   "execution_count": 21,
   "id": "d3f61cc9-a7c9-4d20-9d10-c7193eaf6458",
   "metadata": {
    "tags": []
   },
   "outputs": [
    {
     "data": {
      "text/plain": [
       "((399, 30), (399,), (170, 30), (170,))"
      ]
     },
     "execution_count": 21,
     "metadata": {},
     "output_type": "execute_result"
    }
   ],
   "source": [
    "x_train.shape, y_train.shape, x_test.shape, y_test.shape"
   ]
  },
  {
   "cell_type": "code",
   "execution_count": 22,
   "id": "1a98e371-a7d8-4f30-9a05-61a43b491d4d",
   "metadata": {
    "tags": []
   },
   "outputs": [],
   "source": [
    "x = load_breast_cancer()['data']\n",
    "y = load_breast_cancer()['target']"
   ]
  },
  {
   "cell_type": "code",
   "execution_count": 23,
   "id": "b239d7c3-0bca-483d-955b-0e2b0d08009b",
   "metadata": {
    "tags": []
   },
   "outputs": [],
   "source": [
    "def stratified_train_test_split(x, y, test_prop=0.3, random_state=42):\n",
    "    x = x.copy()\n",
    "    y = y.copy()\n",
    "    counts = Counter(y) # label counts of y\n",
    "    y_count = len(y) # count of all labels in y\n",
    "    counts_percent = {key: value / y_count for key, value in counts.items()} # proportions of labels in y\n",
    "    y_test_count = {label: int(np.ceil(test_prop * prop * y_count)) for label, prop in counts_percent.items()} # count of samples per label in test set\n",
    "    \n",
    "    # Since y_test_count rounds up the sample counts, the count of samples per label might not match the sum of total sample count\n",
    "    # Hence, adjusting sample counts to match total count.  \n",
    "    if sum([*y_test_count.values()]) > len_y_test:   \n",
    "        first_key = [*y_test_count.keys()][0] # getting first label\n",
    "        y_test_count[first_key] -= (sum([*y_test_count.values()]) - len_y_test)  # adding the leftover samples to first label \n",
    "        \n",
    "    train_samples = np.array([], dtype=\"int\") # creating empty array to hold train sample idx\n",
    "    test_samples = np.array([], dtype=\"int\") # creating empty array to hold test sample idx\n",
    "    for i in [*y_test_count.keys()]: # iterating through labels\n",
    "        np.random.seed(random_state)\n",
    "        samples = np.where(y==i)[0] # selecting idxs from y which are equal to a particular label\n",
    "        # appending randomly chosen test samples of a particular label to test_samples array\n",
    "        test_samples = np.append(test_samples, np.random.choice(a=samples, size=int(y_test_count[i]), replace=False))\n",
    "        # appending samples that are not present in test_samples to train_samples\n",
    "        train_samples = np.append(train_samples, np.setdiff1d(samples, test_samples)) # return idx in samples that are not test_samples\n",
    "        x_train, x_test, y_train, y_test = x[train_samples], x[test_samples], y[train_samples], y[test_samples]\n",
    "    return x_train, x_test, y_train, y_test"
   ]
  },
  {
   "cell_type": "code",
   "execution_count": 24,
   "id": "83853543-bb3a-4097-86a6-00841f45e117",
   "metadata": {
    "tags": []
   },
   "outputs": [],
   "source": [
    "x_train, x_test, y_train, y_test = stratified_train_test_split(x, y)"
   ]
  },
  {
   "cell_type": "code",
   "execution_count": 25,
   "id": "fbba6910-c63d-43cf-8afe-5bd77e33709d",
   "metadata": {
    "tags": []
   },
   "outputs": [
    {
     "data": {
      "text/plain": [
       "((399, 30), (399,), (170, 30), (170,))"
      ]
     },
     "execution_count": 25,
     "metadata": {},
     "output_type": "execute_result"
    }
   ],
   "source": [
    "x_train.shape, y_train.shape, x_test.shape, y_test.shape"
   ]
  },
  {
   "cell_type": "code",
   "execution_count": 26,
   "id": "93618704-c7db-43cf-b50c-3b4c417cbe90",
   "metadata": {
    "tags": []
   },
   "outputs": [
    {
     "data": {
      "text/plain": [
       "1    0.627417\n",
       "0    0.372583\n",
       "dtype: float64"
      ]
     },
     "execution_count": 26,
     "metadata": {},
     "output_type": "execute_result"
    }
   ],
   "source": [
    "import pandas as pd\n",
    "# y distribution\n",
    "pd.Series(y).value_counts(normalize=True)"
   ]
  },
  {
   "cell_type": "code",
   "execution_count": 27,
   "id": "94ef5d07-cf29-477f-8ecd-ef98f95a6751",
   "metadata": {
    "tags": []
   },
   "outputs": [
    {
     "data": {
      "text/plain": [
       "1    0.62406\n",
       "0    0.37594\n",
       "dtype: float64"
      ]
     },
     "execution_count": 27,
     "metadata": {},
     "output_type": "execute_result"
    }
   ],
   "source": [
    "# y_train distribution\n",
    "pd.Series(y_train).value_counts(normalize=True)"
   ]
  },
  {
   "cell_type": "code",
   "execution_count": 28,
   "id": "e6712a5b-19f8-4eb7-a364-30cbdc3180d3",
   "metadata": {
    "tags": []
   },
   "outputs": [
    {
     "data": {
      "text/plain": [
       "1    0.635294\n",
       "0    0.364706\n",
       "dtype: float64"
      ]
     },
     "execution_count": 28,
     "metadata": {},
     "output_type": "execute_result"
    }
   ],
   "source": [
    "# y_test distribution\n",
    "pd.Series(y_test).value_counts(normalize=True)"
   ]
  },
  {
   "cell_type": "code",
   "execution_count": 29,
   "id": "5bfba409-1971-4bfb-b5cc-11668638d1f7",
   "metadata": {
    "tags": []
   },
   "outputs": [],
   "source": [
    "assert len(y) == (len(y_train) + len(y_test))"
   ]
  },
  {
   "cell_type": "code",
   "execution_count": 30,
   "id": "ac60e36a-8236-43a4-a4f5-41582d82e176",
   "metadata": {
    "tags": []
   },
   "outputs": [],
   "source": [
    "assert len(x) == (len(x_train) + len(x_test))"
   ]
  }
 ],
 "metadata": {
  "kernelspec": {
   "display_name": "Python 3 (ipykernel)",
   "language": "python",
   "name": "python3"
  },
  "language_info": {
   "codemirror_mode": {
    "name": "ipython",
    "version": 3
   },
   "file_extension": ".py",
   "mimetype": "text/x-python",
   "name": "python",
   "nbconvert_exporter": "python",
   "pygments_lexer": "ipython3",
   "version": "3.11.4"
  }
 },
 "nbformat": 4,
 "nbformat_minor": 5
}
