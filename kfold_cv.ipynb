{
 "cells": [
  {
   "cell_type": "code",
   "execution_count": 1,
   "id": "02a371d1-7324-4358-914a-854d9bcabccc",
   "metadata": {
    "tags": []
   },
   "outputs": [],
   "source": [
    "import numpy as np\n",
    "from collections import Counter"
   ]
  },
  {
   "cell_type": "code",
   "execution_count": 2,
   "id": "d8d03dba-a608-4e4b-91fc-be38e0454d76",
   "metadata": {
    "tags": []
   },
   "outputs": [],
   "source": [
    "def kfold(x, y, n_splits=3, shuffle=True, random_state=42):\n",
    "    cv_samples = np.arange(0, len(y)) # creating list of y indices\n",
    "    if shuffle:\n",
    "        np.random.seed(random_state)\n",
    "        cv_samples = np.random.choice(cv_samples, len(cv_samples), replace=False) # shuffling the indices\n",
    "\n",
    "    cut = np.linspace(0, len(cv_samples), n_splits+1).astype(\"int\") # creating 'n_splits' cuts to split the labels\n",
    "    cv_samples = [cv_samples[cut[i]:cut[i+1]] for i in range(len(cut)-1)] # creating a list of 'n_splits' list of samples of y\n",
    "    \n",
    "    split = 0 # int variable to track split #\n",
    "    split_idx = [*range(n_splits)] # list of split # [0, n_splits)\n",
    "    while split < n_splits:\n",
    "        test_cv_idx = split_idx[split] # index of test samples from cv_samples\n",
    "        train_cv_idx = split_idx[: split] + split_idx[split+1:] # index of train samples from cv_samples\n",
    "        train_idx = np.concatenate([cv_samples[idx] for idx in train_cv_idx]) # train samples idxs\n",
    "        test_idx = cv_samples[test_cv_idx] # test samples idxs\n",
    "        split += 1\n",
    "        yield train_idx, test_idx # using generator to prevent out of memory error"
   ]
  },
  {
   "cell_type": "markdown",
   "id": "4ffc7bfc-0e84-4f0e-a6b4-c9bcad95da86",
   "metadata": {},
   "source": [
    "### TESTING ON BREAST CANCER DATA"
   ]
  },
  {
   "cell_type": "code",
   "execution_count": 3,
   "id": "2f449edb-0691-4faa-8615-535a08ee7ce6",
   "metadata": {
    "tags": []
   },
   "outputs": [],
   "source": [
    "import pandas as pd\n",
    "from sklearn.datasets import load_breast_cancer\n",
    "x = load_breast_cancer()['data']\n",
    "y = load_breast_cancer()['target']"
   ]
  },
  {
   "cell_type": "code",
   "execution_count": 4,
   "id": "8f4200d0-a76e-4e55-8685-c5b0f09c3ae2",
   "metadata": {
    "tags": []
   },
   "outputs": [
    {
     "name": "stdout",
     "output_type": "stream",
     "text": [
      "Y DISTRIBUTION\n",
      "1    0.627417\n",
      "0    0.372583\n",
      "dtype: float64\n",
      "\n",
      "TRAIN SPLIT 0\n",
      "1    0.621053\n",
      "0    0.378947\n",
      "dtype: float64\n",
      "\n",
      "TEST SPLIT 0\n",
      "1    0.640212\n",
      "0    0.359788\n",
      "dtype: float64\n",
      "\n",
      "TRAIN SPLIT 1\n",
      "1    0.620053\n",
      "0    0.379947\n",
      "dtype: float64\n",
      "\n",
      "TEST SPLIT 1\n",
      "1    0.642105\n",
      "0    0.357895\n",
      "dtype: float64\n",
      "\n",
      "TRAIN SPLIT 2\n",
      "1    0.641161\n",
      "0    0.358839\n",
      "dtype: float64\n",
      "\n",
      "TEST SPLIT 2\n",
      "1    0.6\n",
      "0    0.4\n",
      "dtype: float64\n",
      "\n"
     ]
    }
   ],
   "source": [
    "# TESTING Y DISTRIBUTION IN TRAIN TEST SPLITS\n",
    "print(f'Y DISTRIBUTION\\n{pd.Series(y).value_counts(normalize=True)}\\n')\n",
    "cv_samples = kfold(x, y)\n",
    "for n, (train_idx, test_idx) in enumerate(cv_samples):\n",
    "    print(f'TRAIN SPLIT {n}\\n{pd.Series(y[train_idx]).value_counts(normalize=True)}\\n')\n",
    "    print(f'TEST SPLIT {n}\\n{pd.Series(y[test_idx]).value_counts(normalize=True)}\\n')"
   ]
  },
  {
   "cell_type": "code",
   "execution_count": 5,
   "id": "66934c8f-bb90-4029-9710-3a2c4cce0355",
   "metadata": {
    "tags": []
   },
   "outputs": [
    {
     "name": "stdout",
     "output_type": "stream",
     "text": [
      "No issues found\n"
     ]
    }
   ],
   "source": [
    "# TESTING FOR DUPLICATE IDXS IN TRAIN AND TEST IDXS\n",
    "cv_samples = kfold(x, y)\n",
    "for train_idx, test_idx in cv_samples:\n",
    "    assert len(set(test_idx).intersection(set(train_idx))) == 0\n",
    "print(\"No issues found\")"
   ]
  },
  {
   "cell_type": "code",
   "execution_count": 6,
   "id": "b16ca561-67ec-443a-941b-9571d16ce70b",
   "metadata": {
    "tags": []
   },
   "outputs": [
    {
     "name": "stdout",
     "output_type": "stream",
     "text": [
      "No issues found\n"
     ]
    }
   ],
   "source": [
    "# TESTING FOR EQUAL TRAIN + TEST LENGTHS ACROSS ALL SPLITS\n",
    "len_ = 0\n",
    "cv_samples = kfold(x, y)\n",
    "for n, (train_idx, test_idx) in enumerate(cv_samples):\n",
    "    if n == 0:\n",
    "        len_ = len(train_idx) + len(test_idx)\n",
    "        assert len_ == len(y)\n",
    "    else:\n",
    "        assert len_ == len(train_idx) + len(test_idx)\n",
    "print(\"No issues found\")"
   ]
  },
  {
   "cell_type": "code",
   "execution_count": 7,
   "id": "47c891f4-16ca-4051-a7ee-661e3ea02a60",
   "metadata": {
    "tags": []
   },
   "outputs": [
    {
     "name": "stdout",
     "output_type": "stream",
     "text": [
      "No issues found\n"
     ]
    }
   ],
   "source": [
    "# TESTING FOR DUPLICATE IDXS IN TRAIN AND TEST SPLITS\n",
    "cv_samples = kfold(x, y)\n",
    "for n, (train_idx, test_idx) in enumerate(cv_samples):\n",
    "    assert len(set(train_idx)) == len(train_idx)\n",
    "    assert len(set(test_idx)) == len(test_idx)\n",
    "print(\"No issues found\")"
   ]
  },
  {
   "cell_type": "code",
   "execution_count": 8,
   "id": "6fcc0384-cacd-4501-907e-746303c9f5e1",
   "metadata": {
    "tags": []
   },
   "outputs": [
    {
     "name": "stdout",
     "output_type": "stream",
     "text": [
      "189 µs ± 48.4 µs per loop (mean ± std. dev. of 7 runs, 10,000 loops each)\n"
     ]
    }
   ],
   "source": [
    "%%timeit\n",
    "cv_samples = kfold(x, y, n_splits=5)\n",
    "for train_idx, test_idx in cv_samples:\n",
    "    pass"
   ]
  },
  {
   "cell_type": "markdown",
   "id": "1fd194f9-3c0b-4771-b3c5-4ee692d156ab",
   "metadata": {},
   "source": [
    "### TESTING ON IRIS DATA"
   ]
  },
  {
   "cell_type": "code",
   "execution_count": 9,
   "id": "b2621f9d-7f52-44c5-b40c-c2b48eb0ea7b",
   "metadata": {
    "tags": []
   },
   "outputs": [],
   "source": [
    "import pandas as pd\n",
    "from sklearn.datasets import load_iris\n",
    "x = load_iris()['data']\n",
    "y = load_iris()['target']"
   ]
  },
  {
   "cell_type": "code",
   "execution_count": 10,
   "id": "ff871a37-0ecb-430e-a917-7c5f96a7033d",
   "metadata": {
    "tags": []
   },
   "outputs": [
    {
     "name": "stdout",
     "output_type": "stream",
     "text": [
      "Y DISTRIBUTION\n",
      "0    0.333333\n",
      "1    0.333333\n",
      "2    0.333333\n",
      "dtype: float64\n",
      "\n",
      "TRAIN SPLIT 0\n",
      "1    0.341667\n",
      "0    0.333333\n",
      "2    0.325000\n",
      "dtype: float64\n",
      "\n",
      "TEST SPLIT 0\n",
      "2    0.366667\n",
      "0    0.333333\n",
      "1    0.300000\n",
      "dtype: float64\n",
      "\n",
      "TRAIN SPLIT 1\n",
      "2    0.358333\n",
      "1    0.333333\n",
      "0    0.308333\n",
      "dtype: float64\n",
      "\n",
      "TEST SPLIT 1\n",
      "0    0.433333\n",
      "1    0.333333\n",
      "2    0.233333\n",
      "dtype: float64\n",
      "\n",
      "TRAIN SPLIT 2\n",
      "2    0.350000\n",
      "1    0.333333\n",
      "0    0.316667\n",
      "dtype: float64\n",
      "\n",
      "TEST SPLIT 2\n",
      "0    0.400000\n",
      "1    0.333333\n",
      "2    0.266667\n",
      "dtype: float64\n",
      "\n",
      "TRAIN SPLIT 3\n",
      "0    0.350000\n",
      "1    0.333333\n",
      "2    0.316667\n",
      "dtype: float64\n",
      "\n",
      "TEST SPLIT 3\n",
      "2    0.400000\n",
      "1    0.333333\n",
      "0    0.266667\n",
      "dtype: float64\n",
      "\n",
      "TRAIN SPLIT 4\n",
      "0    0.358333\n",
      "1    0.325000\n",
      "2    0.316667\n",
      "dtype: float64\n",
      "\n",
      "TEST SPLIT 4\n",
      "2    0.400000\n",
      "1    0.366667\n",
      "0    0.233333\n",
      "dtype: float64\n",
      "\n"
     ]
    }
   ],
   "source": [
    "# TESTING Y DISTRIBUTION IN TRAIN TEST SPLITS\n",
    "print(f'Y DISTRIBUTION\\n{pd.Series(y).value_counts(normalize=True)}\\n')\n",
    "cv_samples = kfold(x, y, n_splits=5)\n",
    "for n, (train_idx, test_idx) in enumerate(cv_samples):\n",
    "    print(f'TRAIN SPLIT {n}\\n{pd.Series(y[train_idx]).value_counts(normalize=True)}\\n')\n",
    "    print(f'TEST SPLIT {n}\\n{pd.Series(y[test_idx]).value_counts(normalize=True)}\\n')"
   ]
  },
  {
   "cell_type": "code",
   "execution_count": 11,
   "id": "acfe7583-761b-4963-abf0-c749f3891c8c",
   "metadata": {
    "tags": []
   },
   "outputs": [
    {
     "name": "stdout",
     "output_type": "stream",
     "text": [
      "No issues found\n"
     ]
    }
   ],
   "source": [
    "# TESTING FOR DUPLICATE IDXS IN TRAIN AND TEST IDXS\n",
    "cv_samples = kfold(x, y, n_splits=5)\n",
    "for train_idx, test_idx in cv_samples:\n",
    "    assert len(set(test_idx).intersection(set(train_idx))) == 0\n",
    "print(\"No issues found\")"
   ]
  },
  {
   "cell_type": "code",
   "execution_count": 12,
   "id": "69d07b08-0ea0-4819-ae08-f7a860a9f215",
   "metadata": {
    "tags": []
   },
   "outputs": [
    {
     "name": "stdout",
     "output_type": "stream",
     "text": [
      "No issues found\n"
     ]
    }
   ],
   "source": [
    "# TESTING FOR EQUAL TRAIN + TEST LENGTHS ACROSS ALL SPLITS\n",
    "len_ = 0\n",
    "cv_samples = kfold(x, y, n_splits=5)\n",
    "for n, (train_idx, test_idx) in enumerate(cv_samples):\n",
    "    if n == 0:\n",
    "        len_ = len(train_idx) + len(test_idx)\n",
    "        assert len_ == len(y)\n",
    "    else:\n",
    "        assert len_ == len(train_idx) + len(test_idx)\n",
    "print(\"No issues found\")"
   ]
  },
  {
   "cell_type": "code",
   "execution_count": 13,
   "id": "56bd684c-38c0-4adc-9f69-4685aa4f3fe2",
   "metadata": {
    "tags": []
   },
   "outputs": [
    {
     "name": "stdout",
     "output_type": "stream",
     "text": [
      "No issues found\n"
     ]
    }
   ],
   "source": [
    "# TESTING FOR DUPLICATE IDXS IN TRAIN AND TEST SPLITS\n",
    "cv_samples = kfold(x, y, n_splits=5)\n",
    "for n, (train_idx, test_idx) in enumerate(cv_samples):\n",
    "    assert len(set(train_idx)) == len(train_idx)\n",
    "    assert len(set(test_idx)) == len(test_idx)\n",
    "print(\"No issues found\")"
   ]
  },
  {
   "cell_type": "code",
   "execution_count": 14,
   "id": "59166699-e063-4774-8b7e-7ea128f32ef7",
   "metadata": {
    "tags": []
   },
   "outputs": [
    {
     "name": "stdout",
     "output_type": "stream",
     "text": [
      "161 µs ± 29.5 µs per loop (mean ± std. dev. of 7 runs, 10,000 loops each)\n"
     ]
    }
   ],
   "source": [
    "%%timeit\n",
    "cv_samples = kfold(x, y, n_splits=5)\n",
    "for train_idx, test_idx in cv_samples:\n",
    "    pass"
   ]
  },
  {
   "cell_type": "markdown",
   "id": "60540a95-7fc9-4c16-85b3-04ad8a845400",
   "metadata": {
    "tags": []
   },
   "source": [
    "### TESTING ON SYNTHETIC DATASET WITH 10M SAMPLES & 10 FEATURES"
   ]
  },
  {
   "cell_type": "code",
   "execution_count": 15,
   "id": "82de5d82-3f76-4b62-835c-da951823d1ba",
   "metadata": {
    "tags": []
   },
   "outputs": [],
   "source": [
    "from sklearn.datasets import make_classification"
   ]
  },
  {
   "cell_type": "code",
   "execution_count": 16,
   "id": "698ce155-7834-4eea-9a23-b2e1078b0c9e",
   "metadata": {
    "tags": []
   },
   "outputs": [],
   "source": [
    "x, y = make_classification(n_samples=10000000, n_features=10, n_classes=10, n_informative=8, weights=[0.1, 0.3, 0.2, 0.05, 0.02, 0.03, 0.1, 0.05, 0.02, 0.13])"
   ]
  },
  {
   "cell_type": "code",
   "execution_count": 17,
   "id": "bc45b77e-1563-411f-bcd5-aeb7025ac9ba",
   "metadata": {
    "tags": []
   },
   "outputs": [
    {
     "name": "stdout",
     "output_type": "stream",
     "text": [
      "Y DISTRIBUTION\n",
      "1    0.297990\n",
      "2    0.199017\n",
      "9    0.129694\n",
      "6    0.100014\n",
      "0    0.100011\n",
      "7    0.050496\n",
      "3    0.050488\n",
      "5    0.030703\n",
      "4    0.020804\n",
      "8    0.020783\n",
      "dtype: float64\n",
      "\n",
      "TRAIN SPLIT 0\n",
      "1    0.297958\n",
      "2    0.199063\n",
      "9    0.129652\n",
      "6    0.100054\n",
      "0    0.099964\n",
      "3    0.050554\n",
      "7    0.050484\n",
      "5    0.030698\n",
      "4    0.020800\n",
      "8    0.020774\n",
      "dtype: float64\n",
      "\n",
      "TEST SPLIT 0\n",
      "1    0.298116\n",
      "2    0.198833\n",
      "9    0.129864\n",
      "0    0.100199\n",
      "6    0.099858\n",
      "7    0.050549\n",
      "3    0.050223\n",
      "5    0.030721\n",
      "8    0.020820\n",
      "4    0.020817\n",
      "dtype: float64\n",
      "\n",
      "TRAIN SPLIT 1\n",
      "1    0.298061\n",
      "2    0.198980\n",
      "9    0.129691\n",
      "0    0.100021\n",
      "6    0.099925\n",
      "7    0.050510\n",
      "3    0.050500\n",
      "5    0.030719\n",
      "4    0.020810\n",
      "8    0.020781\n",
      "dtype: float64\n",
      "\n",
      "TEST SPLIT 1\n",
      "1    0.297702\n",
      "2    0.199164\n",
      "9    0.129706\n",
      "6    0.100372\n",
      "0    0.099973\n",
      "7    0.050442\n",
      "3    0.050438\n",
      "5    0.030635\n",
      "8    0.020790\n",
      "4    0.020777\n",
      "dtype: float64\n",
      "\n",
      "TRAIN SPLIT 2\n",
      "1    0.297955\n",
      "2    0.198942\n",
      "9    0.129756\n",
      "0    0.100048\n",
      "6    0.100042\n",
      "3    0.050472\n",
      "7    0.050472\n",
      "5    0.030692\n",
      "4    0.020834\n",
      "8    0.020786\n",
      "dtype: float64\n",
      "\n",
      "TEST SPLIT 2\n",
      "1    0.298131\n",
      "2    0.199319\n",
      "9    0.129448\n",
      "6    0.099904\n",
      "0    0.099862\n",
      "7    0.050592\n",
      "3    0.050549\n",
      "5    0.030745\n",
      "8    0.020770\n",
      "4    0.020681\n",
      "dtype: float64\n",
      "\n",
      "TRAIN SPLIT 3\n",
      "1    0.297912\n",
      "2    0.199020\n",
      "9    0.129671\n",
      "6    0.100035\n",
      "0    0.100022\n",
      "7    0.050524\n",
      "3    0.050468\n",
      "5    0.030700\n",
      "8    0.020848\n",
      "4    0.020799\n",
      "dtype: float64\n",
      "\n",
      "TEST SPLIT 3\n",
      "1    0.298301\n",
      "2    0.199008\n",
      "9    0.129786\n",
      "0    0.099967\n",
      "6    0.099930\n",
      "3    0.050565\n",
      "7    0.050387\n",
      "5    0.030711\n",
      "4    0.020821\n",
      "8    0.020523\n",
      "dtype: float64\n",
      "\n",
      "TRAIN SPLIT 4\n",
      "1    0.298063\n",
      "2    0.199081\n",
      "9    0.129701\n",
      "6    0.100016\n",
      "0    0.100000\n",
      "7    0.050493\n",
      "3    0.050444\n",
      "5    0.030703\n",
      "4    0.020774\n",
      "8    0.020726\n",
      "dtype: float64\n",
      "\n",
      "TEST SPLIT 4\n",
      "1    0.297698\n",
      "2    0.198763\n",
      "9    0.129667\n",
      "0    0.100054\n",
      "6    0.100010\n",
      "3    0.050662\n",
      "7    0.050513\n",
      "5    0.030700\n",
      "8    0.021012\n",
      "4    0.020921\n",
      "dtype: float64\n",
      "\n"
     ]
    }
   ],
   "source": [
    "# TESTING Y DISTRIBUTION IN TRAIN TEST SPLITS\n",
    "print(f'Y DISTRIBUTION\\n{pd.Series(y).value_counts(normalize=True)}\\n')\n",
    "cv_samples = kfold(x, y, n_splits=5)\n",
    "for n, (train_idx, test_idx) in enumerate(cv_samples):\n",
    "    print(f'TRAIN SPLIT {n}\\n{pd.Series(y[train_idx]).value_counts(normalize=True)}\\n')\n",
    "    print(f'TEST SPLIT {n}\\n{pd.Series(y[test_idx]).value_counts(normalize=True)}\\n')"
   ]
  },
  {
   "cell_type": "code",
   "execution_count": 18,
   "id": "8afb946a-1370-4209-84d9-79310a1aaba4",
   "metadata": {
    "tags": []
   },
   "outputs": [
    {
     "name": "stdout",
     "output_type": "stream",
     "text": [
      "No issues found\n"
     ]
    }
   ],
   "source": [
    "# TESTING FOR DUPLICATE IDXS IN TRAIN AND TEST IDXS\n",
    "cv_samples = kfold(x, y, n_splits=5)\n",
    "for train_idx, test_idx in cv_samples:\n",
    "    assert len(set(test_idx).intersection(set(train_idx))) == 0\n",
    "print(\"No issues found\")"
   ]
  },
  {
   "cell_type": "code",
   "execution_count": 19,
   "id": "3f1c5d18-c3a8-4fb3-ab01-46d79a7460ff",
   "metadata": {
    "tags": []
   },
   "outputs": [
    {
     "name": "stdout",
     "output_type": "stream",
     "text": [
      "No issues found\n"
     ]
    }
   ],
   "source": [
    "# TESTING FOR EQUAL TRAIN + TEST LENGTHS ACROSS ALL SPLITS\n",
    "len_ = 0\n",
    "cv_samples = kfold(x, y, n_splits=5)\n",
    "for n, (train_idx, test_idx) in enumerate(cv_samples):\n",
    "    if n == 0:\n",
    "        len_ = len(train_idx) + len(test_idx)\n",
    "        assert len_ == len(y)\n",
    "    else:\n",
    "        assert len_ == len(train_idx) + len(test_idx)\n",
    "print(\"No issues found\")"
   ]
  },
  {
   "cell_type": "code",
   "execution_count": 20,
   "id": "7d787ec8-bd6f-49b7-ad2b-92f792e09976",
   "metadata": {
    "tags": []
   },
   "outputs": [
    {
     "name": "stdout",
     "output_type": "stream",
     "text": [
      "No issues found\n"
     ]
    }
   ],
   "source": [
    "# TESTING FOR DUPLICATE IDXS IN TRAIN AND TEST SPLITS\n",
    "cv_samples = kfold(x, y, n_splits=5)\n",
    "for n, (train_idx, test_idx) in enumerate(cv_samples):\n",
    "    assert len(set(train_idx)) == len(train_idx)\n",
    "    assert len(set(test_idx)) == len(test_idx)\n",
    "print(\"No issues found\")"
   ]
  },
  {
   "cell_type": "code",
   "execution_count": 21,
   "id": "f9b1461d-46eb-426e-91fb-694fcf39bc61",
   "metadata": {
    "tags": []
   },
   "outputs": [
    {
     "name": "stdout",
     "output_type": "stream",
     "text": [
      "986 ms ± 108 ms per loop (mean ± std. dev. of 7 runs, 1 loop each)\n"
     ]
    }
   ],
   "source": [
    "%%timeit\n",
    "cv_samples = kfold(x, y, n_splits=5)\n",
    "for train_idx, test_idx in cv_samples:\n",
    "    pass"
   ]
  },
  {
   "cell_type": "code",
   "execution_count": null,
   "id": "59bea2a8-3f37-4279-ba17-2a2d0f484bc1",
   "metadata": {},
   "outputs": [],
   "source": []
  }
 ],
 "metadata": {
  "kernelspec": {
   "display_name": "Python 3 (ipykernel)",
   "language": "python",
   "name": "python3"
  },
  "language_info": {
   "codemirror_mode": {
    "name": "ipython",
    "version": 3
   },
   "file_extension": ".py",
   "mimetype": "text/x-python",
   "name": "python",
   "nbconvert_exporter": "python",
   "pygments_lexer": "ipython3",
   "version": "3.11.4"
  }
 },
 "nbformat": 4,
 "nbformat_minor": 5
}
