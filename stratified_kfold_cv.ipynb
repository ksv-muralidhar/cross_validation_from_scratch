{
 "cells": [
  {
   "cell_type": "code",
   "execution_count": 1,
   "id": "02a371d1-7324-4358-914a-854d9bcabccc",
   "metadata": {
    "tags": []
   },
   "outputs": [],
   "source": [
    "import numpy as np\n",
    "from collections import Counter"
   ]
  },
  {
   "cell_type": "code",
   "execution_count": 2,
   "id": "d8d03dba-a608-4e4b-91fc-be38e0454d76",
   "metadata": {
    "tags": []
   },
   "outputs": [],
   "source": [
    "def stratified_kfold(x, y, n_splits=3):\n",
    "    cv_samples = [] # creating empty list to store split indices\n",
    "    for i in np.unique(y): # iterating through unique labels\n",
    "        samples = np.where(y==i)[0] # selecting idxs from y which are equal to a particular label\n",
    "        cut = np.linspace(0, len(samples), n_splits+1).astype(\"int\") # creating 'n_splits' cuts to split the labels\n",
    "        if len(cv_samples) == 0:\n",
    "            cv_samples = [samples[cut[i]:cut[i+1]] for i in range(len(cut)-1)] # creating a list of 'n_splits' list of samples of first label\n",
    "        else:\n",
    "            # appending 'n_splits' list of samples of other labels to first label\n",
    "            cv_samples = [np.append(cv_samples[n], samples[cut[i]:cut[i+1]]) for n, i in enumerate(range(len(cut)-1))]\n",
    "    \n",
    "    split = 0 # int variable to track split #\n",
    "    split_idx = [*range(n_splits)] # list of split # [0, n_splits)\n",
    "    while split < n_splits:\n",
    "        test_cv_idx = split_idx[split] # index of test samples from cv_samples\n",
    "        train_cv_idx = split_idx[: split] + split_idx[split+1:] # index of train samples from cv_samples\n",
    "        train_idx = np.concatenate([cv_samples[idx] for idx in train_cv_idx]) # train samples idxs\n",
    "        test_idx = cv_samples[test_cv_idx] # test samples idxs\n",
    "        split += 1\n",
    "        yield train_idx, test_idx # using generator to prevent out of memory error"
   ]
  },
  {
   "cell_type": "markdown",
   "id": "4ffc7bfc-0e84-4f0e-a6b4-c9bcad95da86",
   "metadata": {},
   "source": [
    "### TESTING ON BREAST CANCER DATA"
   ]
  },
  {
   "cell_type": "code",
   "execution_count": 3,
   "id": "2f449edb-0691-4faa-8615-535a08ee7ce6",
   "metadata": {
    "tags": []
   },
   "outputs": [],
   "source": [
    "import pandas as pd\n",
    "from sklearn.datasets import load_breast_cancer\n",
    "x = load_breast_cancer()['data']\n",
    "y = load_breast_cancer()['target']"
   ]
  },
  {
   "cell_type": "code",
   "execution_count": 4,
   "id": "8f4200d0-a76e-4e55-8685-c5b0f09c3ae2",
   "metadata": {
    "tags": []
   },
   "outputs": [
    {
     "name": "stdout",
     "output_type": "stream",
     "text": [
      "Y DISTRIBUTION\n",
      "1    0.627417\n",
      "0    0.372583\n",
      "dtype: float64\n",
      "\n",
      "TRAIN SPLIT 0\n",
      "1    0.626316\n",
      "0    0.373684\n",
      "dtype: float64\n",
      "\n",
      "TEST SPLIT 0\n",
      "1    0.62963\n",
      "0    0.37037\n",
      "dtype: float64\n",
      "\n",
      "TRAIN SPLIT 1\n",
      "1    0.627968\n",
      "0    0.372032\n",
      "dtype: float64\n",
      "\n",
      "TEST SPLIT 1\n",
      "1    0.626316\n",
      "0    0.373684\n",
      "dtype: float64\n",
      "\n",
      "TRAIN SPLIT 2\n",
      "1    0.627968\n",
      "0    0.372032\n",
      "dtype: float64\n",
      "\n",
      "TEST SPLIT 2\n",
      "1    0.626316\n",
      "0    0.373684\n",
      "dtype: float64\n",
      "\n"
     ]
    }
   ],
   "source": [
    "# TESTING Y DISTRIBUTION IN TRAIN TEST SPLITS\n",
    "print(f'Y DISTRIBUTION\\n{pd.Series(y).value_counts(normalize=True)}\\n')\n",
    "cv_samples = stratified_kfold(x, y)\n",
    "for n, (train_idx, test_idx) in enumerate(cv_samples):\n",
    "    print(f'TRAIN SPLIT {n}\\n{pd.Series(y[train_idx]).value_counts(normalize=True)}\\n')\n",
    "    print(f'TEST SPLIT {n}\\n{pd.Series(y[test_idx]).value_counts(normalize=True)}\\n')"
   ]
  },
  {
   "cell_type": "code",
   "execution_count": 5,
   "id": "66934c8f-bb90-4029-9710-3a2c4cce0355",
   "metadata": {
    "tags": []
   },
   "outputs": [],
   "source": [
    "# TESTING FOR DUPLICATE IDXS IN TRAIN AND TEST IDXS\n",
    "cv_samples = stratified_kfold(x, y)\n",
    "for train_idx, test_idx in cv_samples:\n",
    "    assert len(set(test_idx).intersection(set(train_idx))) == 0"
   ]
  },
  {
   "cell_type": "code",
   "execution_count": 6,
   "id": "b16ca561-67ec-443a-941b-9571d16ce70b",
   "metadata": {
    "tags": []
   },
   "outputs": [],
   "source": [
    "# TESTING FOR EQUAL TRAIN + TEST LENGTHS ACROSS ALL SPLITS\n",
    "len_ = 0\n",
    "cv_samples = stratified_kfold(x, y)\n",
    "for n, (train_idx, test_idx) in enumerate(cv_samples):\n",
    "    if n == 0:\n",
    "        len_ = len(train_idx) + len(test_idx)\n",
    "        assert len_ == len(y)\n",
    "    else:\n",
    "        assert len_ == len(train_idx) + len(test_idx)"
   ]
  },
  {
   "cell_type": "code",
   "execution_count": 7,
   "id": "47c891f4-16ca-4051-a7ee-661e3ea02a60",
   "metadata": {
    "tags": []
   },
   "outputs": [],
   "source": [
    "# TESTING FOR DUPLICATE IDXS IN TRAIN AND TEST SPLITS\n",
    "cv_samples = stratified_kfold(x, y)\n",
    "for n, (train_idx, test_idx) in enumerate(cv_samples):\n",
    "    assert len(set(train_idx)) == len(train_idx)\n",
    "    assert len(set(test_idx)) == len(test_idx)"
   ]
  },
  {
   "cell_type": "markdown",
   "id": "1fd194f9-3c0b-4771-b3c5-4ee692d156ab",
   "metadata": {},
   "source": [
    "### TESTING ON IRIS DATA"
   ]
  },
  {
   "cell_type": "code",
   "execution_count": 8,
   "id": "b2621f9d-7f52-44c5-b40c-c2b48eb0ea7b",
   "metadata": {
    "tags": []
   },
   "outputs": [],
   "source": [
    "import pandas as pd\n",
    "from sklearn.datasets import load_iris\n",
    "x = load_iris()['data']\n",
    "y = load_iris()['target']"
   ]
  },
  {
   "cell_type": "code",
   "execution_count": 9,
   "id": "ff871a37-0ecb-430e-a917-7c5f96a7033d",
   "metadata": {
    "tags": []
   },
   "outputs": [
    {
     "name": "stdout",
     "output_type": "stream",
     "text": [
      "Y DISTRIBUTION\n",
      "0    0.333333\n",
      "1    0.333333\n",
      "2    0.333333\n",
      "dtype: float64\n",
      "\n",
      "TRAIN SPLIT 0\n",
      "0    0.333333\n",
      "1    0.333333\n",
      "2    0.333333\n",
      "dtype: float64\n",
      "\n",
      "TEST SPLIT 0\n",
      "0    0.333333\n",
      "1    0.333333\n",
      "2    0.333333\n",
      "dtype: float64\n",
      "\n",
      "TRAIN SPLIT 1\n",
      "0    0.333333\n",
      "1    0.333333\n",
      "2    0.333333\n",
      "dtype: float64\n",
      "\n",
      "TEST SPLIT 1\n",
      "0    0.333333\n",
      "1    0.333333\n",
      "2    0.333333\n",
      "dtype: float64\n",
      "\n",
      "TRAIN SPLIT 2\n",
      "0    0.333333\n",
      "1    0.333333\n",
      "2    0.333333\n",
      "dtype: float64\n",
      "\n",
      "TEST SPLIT 2\n",
      "0    0.333333\n",
      "1    0.333333\n",
      "2    0.333333\n",
      "dtype: float64\n",
      "\n",
      "TRAIN SPLIT 3\n",
      "0    0.333333\n",
      "1    0.333333\n",
      "2    0.333333\n",
      "dtype: float64\n",
      "\n",
      "TEST SPLIT 3\n",
      "0    0.333333\n",
      "1    0.333333\n",
      "2    0.333333\n",
      "dtype: float64\n",
      "\n",
      "TRAIN SPLIT 4\n",
      "0    0.333333\n",
      "1    0.333333\n",
      "2    0.333333\n",
      "dtype: float64\n",
      "\n",
      "TEST SPLIT 4\n",
      "0    0.333333\n",
      "1    0.333333\n",
      "2    0.333333\n",
      "dtype: float64\n",
      "\n"
     ]
    }
   ],
   "source": [
    "# TESTING Y DISTRIBUTION IN TRAIN TEST SPLITS\n",
    "print(f'Y DISTRIBUTION\\n{pd.Series(y).value_counts(normalize=True)}\\n')\n",
    "cv_samples = stratified_kfold(x, y, n_splits=5)\n",
    "for n, (train_idx, test_idx) in enumerate(cv_samples):\n",
    "    print(f'TRAIN SPLIT {n}\\n{pd.Series(y[train_idx]).value_counts(normalize=True)}\\n')\n",
    "    print(f'TEST SPLIT {n}\\n{pd.Series(y[test_idx]).value_counts(normalize=True)}\\n')"
   ]
  },
  {
   "cell_type": "code",
   "execution_count": 10,
   "id": "acfe7583-761b-4963-abf0-c749f3891c8c",
   "metadata": {
    "tags": []
   },
   "outputs": [],
   "source": [
    "# TESTING FOR DUPLICATE IDXS IN TRAIN AND TEST IDXS\n",
    "cv_samples = stratified_kfold(x, y, n_splits=5)\n",
    "for train_idx, test_idx in cv_samples:\n",
    "    assert len(set(test_idx).intersection(set(train_idx))) == 0"
   ]
  },
  {
   "cell_type": "code",
   "execution_count": 11,
   "id": "69d07b08-0ea0-4819-ae08-f7a860a9f215",
   "metadata": {
    "tags": []
   },
   "outputs": [],
   "source": [
    "# TESTING FOR EQUAL TRAIN + TEST LENGTHS ACROSS ALL SPLITS\n",
    "len_ = 0\n",
    "cv_samples = stratified_kfold(x, y, n_splits=5)\n",
    "for n, (train_idx, test_idx) in enumerate(cv_samples):\n",
    "    if n == 0:\n",
    "        len_ = len(train_idx) + len(test_idx)\n",
    "        assert len_ == len(y)\n",
    "    else:\n",
    "        assert len_ == len(train_idx) + len(test_idx)"
   ]
  },
  {
   "cell_type": "code",
   "execution_count": 12,
   "id": "56bd684c-38c0-4adc-9f69-4685aa4f3fe2",
   "metadata": {
    "tags": []
   },
   "outputs": [],
   "source": [
    "# TESTING FOR DUPLICATE IDXS IN TRAIN AND TEST SPLITS\n",
    "cv_samples = stratified_kfold(x, y, n_splits=5)\n",
    "for n, (train_idx, test_idx) in enumerate(cv_samples):\n",
    "    assert len(set(train_idx)) == len(train_idx)\n",
    "    assert len(set(test_idx)) == len(test_idx)"
   ]
  },
  {
   "cell_type": "code",
   "execution_count": null,
   "id": "82de5d82-3f76-4b62-835c-da951823d1ba",
   "metadata": {
    "tags": []
   },
   "outputs": [],
   "source": []
  }
 ],
 "metadata": {
  "kernelspec": {
   "display_name": "Python 3 (ipykernel)",
   "language": "python",
   "name": "python3"
  },
  "language_info": {
   "codemirror_mode": {
    "name": "ipython",
    "version": 3
   },
   "file_extension": ".py",
   "mimetype": "text/x-python",
   "name": "python",
   "nbconvert_exporter": "python",
   "pygments_lexer": "ipython3",
   "version": "3.11.4"
  }
 },
 "nbformat": 4,
 "nbformat_minor": 5
}
