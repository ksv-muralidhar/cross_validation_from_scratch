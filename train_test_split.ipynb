{
 "cells": [
  {
   "cell_type": "code",
   "execution_count": 1,
   "id": "43386de5-9ac7-4d03-9134-b4e28d0cfc45",
   "metadata": {
    "tags": []
   },
   "outputs": [],
   "source": [
    "from sklearn.datasets import load_iris\n",
    "import numpy as np\n",
    "from collections import Counter"
   ]
  },
  {
   "cell_type": "code",
   "execution_count": 2,
   "id": "70907226-28c6-47c0-af5b-24c698c24a6f",
   "metadata": {
    "tags": []
   },
   "outputs": [],
   "source": [
    "x = load_iris()['data']\n",
    "y = load_iris()['target']"
   ]
  },
  {
   "cell_type": "code",
   "execution_count": 3,
   "id": "636b71f2-0e55-46dc-83e5-65d727b630fa",
   "metadata": {
    "tags": []
   },
   "outputs": [
    {
     "data": {
      "text/plain": [
       "150"
      ]
     },
     "execution_count": 3,
     "metadata": {},
     "output_type": "execute_result"
    }
   ],
   "source": [
    "y_count = len(y) # count of all labels in y\n",
    "y_count"
   ]
  },
  {
   "cell_type": "code",
   "execution_count": 4,
   "id": "cf2a6d9d-6a4b-474d-a0d7-950b15fd80d0",
   "metadata": {
    "tags": []
   },
   "outputs": [],
   "source": [
    "test_prop = 0.3"
   ]
  },
  {
   "cell_type": "code",
   "execution_count": 5,
   "id": "69eba034-5425-4b12-bd31-e70ee403ffeb",
   "metadata": {
    "tags": []
   },
   "outputs": [
    {
     "data": {
      "text/plain": [
       "45"
      ]
     },
     "execution_count": 5,
     "metadata": {},
     "output_type": "execute_result"
    }
   ],
   "source": [
    "len_y_test = int(y_count * test_prop)\n",
    "len_y_test"
   ]
  },
  {
   "cell_type": "code",
   "execution_count": 6,
   "id": "f8337807-5700-4757-8165-c7337a8749e9",
   "metadata": {
    "tags": []
   },
   "outputs": [],
   "source": [
    "shuffle = True\n",
    "random_state = 42"
   ]
  },
  {
   "cell_type": "code",
   "execution_count": 7,
   "id": "7d7b0600-5c86-487a-9a46-39b1cde0c8bf",
   "metadata": {
    "tags": []
   },
   "outputs": [],
   "source": [
    "samples = np.arange(0, len(y))\n",
    "if shuffle:\n",
    "    np.random.seed(random_state)\n",
    "    samples = np.random.choice(samples, len(samples), replace=False)\n",
    "test_samples = samples[:len_y_test]\n",
    "train_samples = samples[len_y_test:]\n",
    "x_train, x_test, y_train, y_test = x[train_samples], x[test_samples], y[train_samples], y[test_samples]"
   ]
  },
  {
   "cell_type": "code",
   "execution_count": 8,
   "id": "1fd8ff35-0e2e-4164-b7b5-d68b966552e2",
   "metadata": {
    "tags": []
   },
   "outputs": [
    {
     "data": {
      "text/plain": [
       "array([ 81, 133, 137,  75, 109,  96, 105,  66,   0, 122,  67,  28,  40,\n",
       "        44,  60, 123,  24,  25,  23,  94,  39,  95, 117,  47,  97, 113,\n",
       "        33, 138, 101,  62,  84, 148,  53,   5,  93, 111,  49,  35,  80,\n",
       "        77,  34, 114,   7,  43,  70,  98, 120,  83, 134, 135,  89,   8,\n",
       "        13, 119, 125,   3,  17,  38,  72, 136,   6, 112, 100,   2,  63,\n",
       "        54, 126,  50, 115,  46, 139,  61, 147,  79,  59,  91,  41,  58,\n",
       "        90,  48,  88, 107, 124,  21,  57, 144, 129,  37, 140,   1,  52,\n",
       "       130, 103,  99, 116,  87,  74, 121, 149,  20,  71, 106,  14,  92,\n",
       "       102])"
      ]
     },
     "execution_count": 8,
     "metadata": {},
     "output_type": "execute_result"
    }
   ],
   "source": [
    "train_samples"
   ]
  },
  {
   "cell_type": "code",
   "execution_count": 9,
   "id": "0c39fc8d-e239-47dd-8611-db35e348368d",
   "metadata": {
    "tags": []
   },
   "outputs": [
    {
     "data": {
      "text/plain": [
       "array([ 73,  18, 118,  78,  76,  31,  64, 141,  68,  82, 110,  12,  36,\n",
       "         9,  19,  56, 104,  69,  55, 132,  29, 127,  26, 128, 131, 145,\n",
       "       108, 143,  45,  30,  22,  15,  65,  11,  42, 146,  51,  27,   4,\n",
       "        32, 142,  85,  86,  16,  10])"
      ]
     },
     "execution_count": 9,
     "metadata": {},
     "output_type": "execute_result"
    }
   ],
   "source": [
    "test_samples"
   ]
  },
  {
   "cell_type": "code",
   "execution_count": 10,
   "id": "99143c23-947a-43d9-b6a3-d46b03a4d566",
   "metadata": {
    "tags": []
   },
   "outputs": [],
   "source": [
    "# ensuring no duplicate train samples\n",
    "assert len(set(train_samples)) == len(train_samples)"
   ]
  },
  {
   "cell_type": "code",
   "execution_count": 11,
   "id": "343d1bfe-2189-4898-b8bd-c0923386ef50",
   "metadata": {
    "tags": []
   },
   "outputs": [],
   "source": [
    "# ensuring no duplicate test samples\n",
    "assert len(set(test_samples)) == len(test_samples)"
   ]
  },
  {
   "cell_type": "code",
   "execution_count": 12,
   "id": "650285a9-480c-406d-9b65-646333f99fbf",
   "metadata": {
    "tags": []
   },
   "outputs": [],
   "source": [
    "# ensuring no intersection between train and test samples\n",
    "assert len(set(test_samples).intersection(set(train_samples))) == 0"
   ]
  },
  {
   "cell_type": "code",
   "execution_count": 13,
   "id": "e649ff41-a3ce-4516-b1e4-80d7a701d2d9",
   "metadata": {
    "tags": []
   },
   "outputs": [
    {
     "data": {
      "text/plain": [
       "45"
      ]
     },
     "execution_count": 13,
     "metadata": {},
     "output_type": "execute_result"
    }
   ],
   "source": [
    "len(test_samples)"
   ]
  },
  {
   "cell_type": "code",
   "execution_count": 14,
   "id": "2ab7cc3c-1e4b-432a-8311-9aa34e114db2",
   "metadata": {
    "tags": []
   },
   "outputs": [
    {
     "data": {
      "text/plain": [
       "105"
      ]
     },
     "execution_count": 14,
     "metadata": {},
     "output_type": "execute_result"
    }
   ],
   "source": [
    "len(train_samples)"
   ]
  },
  {
   "cell_type": "code",
   "execution_count": 15,
   "id": "482ab666-3e99-4814-9f4d-787e79b4fc67",
   "metadata": {
    "tags": []
   },
   "outputs": [
    {
     "data": {
      "text/plain": [
       "150"
      ]
     },
     "execution_count": 15,
     "metadata": {},
     "output_type": "execute_result"
    }
   ],
   "source": [
    "len(y)"
   ]
  },
  {
   "cell_type": "code",
   "execution_count": 16,
   "id": "5e199ce1-a185-4dfc-b14d-7034438048c9",
   "metadata": {},
   "outputs": [],
   "source": [
    "assert len(y) == (len(test_samples) + len(train_samples))"
   ]
  },
  {
   "cell_type": "code",
   "execution_count": 17,
   "id": "d3f61cc9-a7c9-4d20-9d10-c7193eaf6458",
   "metadata": {
    "tags": []
   },
   "outputs": [
    {
     "data": {
      "text/plain": [
       "((105, 4), (105,), (45, 4), (45,))"
      ]
     },
     "execution_count": 17,
     "metadata": {},
     "output_type": "execute_result"
    }
   ],
   "source": [
    "x_train.shape, y_train.shape, x_test.shape, y_test.shape"
   ]
  },
  {
   "cell_type": "code",
   "execution_count": 18,
   "id": "b239d7c3-0bca-483d-955b-0e2b0d08009b",
   "metadata": {
    "tags": []
   },
   "outputs": [],
   "source": [
    "def train_test_split(x, y, test_prop=0.3, shuffle=True, random_state=42):\n",
    "    x = x.copy()\n",
    "    y = y.copy()\n",
    "    y_count = len(y) # count of all labels in y\n",
    "    len_y_test = int(y_count * test_prop) # test set size\n",
    "    samples = np.arange(0, len(y)) # indices of y\n",
    "    if shuffle:\n",
    "        np.random.seed(random_state)\n",
    "        samples = np.random.choice(samples, len(samples), replace=False) # shuffle indices\n",
    "    test_samples = samples[:len_y_test] # test set = 0 to (y_test size)\n",
    "    train_samples = samples[len_y_test:] # train set = (y_test size) to end\n",
    "    x_train, x_test, y_train, y_test = x[train_samples], x[test_samples], y[train_samples], y[test_samples]\n",
    "    return x_train, x_test, y_train, y_test"
   ]
  },
  {
   "cell_type": "code",
   "execution_count": 19,
   "id": "1a98e371-a7d8-4f30-9a05-61a43b491d4d",
   "metadata": {
    "tags": []
   },
   "outputs": [],
   "source": [
    "x = load_iris()['data']\n",
    "y = load_iris()['target']"
   ]
  },
  {
   "cell_type": "code",
   "execution_count": 20,
   "id": "83853543-bb3a-4097-86a6-00841f45e117",
   "metadata": {
    "tags": []
   },
   "outputs": [],
   "source": [
    "x_train, x_test, y_train, y_test = train_test_split(x, y)"
   ]
  },
  {
   "cell_type": "code",
   "execution_count": 21,
   "id": "fbba6910-c63d-43cf-8afe-5bd77e33709d",
   "metadata": {
    "tags": []
   },
   "outputs": [
    {
     "data": {
      "text/plain": [
       "((105, 4), (105,), (45, 4), (45,))"
      ]
     },
     "execution_count": 21,
     "metadata": {},
     "output_type": "execute_result"
    }
   ],
   "source": [
    "x_train.shape, y_train.shape, x_test.shape, y_test.shape"
   ]
  },
  {
   "cell_type": "code",
   "execution_count": 22,
   "id": "93618704-c7db-43cf-b50c-3b4c417cbe90",
   "metadata": {
    "tags": []
   },
   "outputs": [
    {
     "data": {
      "text/plain": [
       "0    0.333333\n",
       "1    0.333333\n",
       "2    0.333333\n",
       "dtype: float64"
      ]
     },
     "execution_count": 22,
     "metadata": {},
     "output_type": "execute_result"
    }
   ],
   "source": [
    "import pandas as pd\n",
    "# y distribution\n",
    "pd.Series(y).value_counts(normalize=True)"
   ]
  },
  {
   "cell_type": "code",
   "execution_count": 23,
   "id": "94ef5d07-cf29-477f-8ecd-ef98f95a6751",
   "metadata": {
    "tags": []
   },
   "outputs": [
    {
     "data": {
      "text/plain": [
       "1    0.352381\n",
       "2    0.352381\n",
       "0    0.295238\n",
       "dtype: float64"
      ]
     },
     "execution_count": 23,
     "metadata": {},
     "output_type": "execute_result"
    }
   ],
   "source": [
    "# y_train distribution\n",
    "pd.Series(y_train).value_counts(normalize=True)"
   ]
  },
  {
   "cell_type": "code",
   "execution_count": 24,
   "id": "e6712a5b-19f8-4eb7-a364-30cbdc3180d3",
   "metadata": {
    "tags": []
   },
   "outputs": [
    {
     "data": {
      "text/plain": [
       "0    0.422222\n",
       "1    0.288889\n",
       "2    0.288889\n",
       "dtype: float64"
      ]
     },
     "execution_count": 24,
     "metadata": {},
     "output_type": "execute_result"
    }
   ],
   "source": [
    "# y_test distribution\n",
    "pd.Series(y_test).value_counts(normalize=True)"
   ]
  },
  {
   "cell_type": "code",
   "execution_count": 25,
   "id": "5bfba409-1971-4bfb-b5cc-11668638d1f7",
   "metadata": {
    "tags": []
   },
   "outputs": [
    {
     "name": "stdout",
     "output_type": "stream",
     "text": [
      "no issues found\n"
     ]
    }
   ],
   "source": [
    "assert len(y) == (len(y_train) + len(y_test))\n",
    "print(\"no issues found\")"
   ]
  },
  {
   "cell_type": "code",
   "execution_count": 26,
   "id": "ac60e36a-8236-43a4-a4f5-41582d82e176",
   "metadata": {
    "tags": []
   },
   "outputs": [
    {
     "name": "stdout",
     "output_type": "stream",
     "text": [
      "no issues found\n"
     ]
    }
   ],
   "source": [
    "assert len(x) == (len(x_train) + len(x_test))\n",
    "print(\"no issues found\")"
   ]
  }
 ],
 "metadata": {
  "kernelspec": {
   "display_name": "Python 3 (ipykernel)",
   "language": "python",
   "name": "python3"
  },
  "language_info": {
   "codemirror_mode": {
    "name": "ipython",
    "version": 3
   },
   "file_extension": ".py",
   "mimetype": "text/x-python",
   "name": "python",
   "nbconvert_exporter": "python",
   "pygments_lexer": "ipython3",
   "version": "3.11.4"
  }
 },
 "nbformat": 4,
 "nbformat_minor": 5
}
